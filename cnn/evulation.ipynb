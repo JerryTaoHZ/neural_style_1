{
 "metadata": {
  "language_info": {
   "codemirror_mode": {
    "name": "ipython",
    "version": 3
   },
   "file_extension": ".py",
   "mimetype": "text/x-python",
   "name": "python",
   "nbconvert_exporter": "python",
   "pygments_lexer": "ipython3",
   "version": "3.7.5-final"
  },
  "orig_nbformat": 2,
  "kernelspec": {
   "name": "python3",
   "display_name": "Python 3"
  }
 },
 "nbformat": 4,
 "nbformat_minor": 2,
 "cells": [
  {
   "cell_type": "code",
   "execution_count": 1,
   "metadata": {},
   "outputs": [],
   "source": [
    "from Model import *\n",
    "from Image import *"
   ]
  },
  {
   "cell_type": "code",
   "execution_count": 2,
   "metadata": {},
   "outputs": [],
   "source": [
    "import time\n",
    "\n",
    "import torchvision\n",
    "import torchvision.transforms as transforms\n",
    "import torchvision.models as models"
   ]
  },
  {
   "cell_type": "code",
   "execution_count": 3,
   "metadata": {},
   "outputs": [],
   "source": [
    "device = torch.device(\"cuda\" if torch.cuda.is_available() else \"cpu\")\n",
    "# desired size of the output im\n",
    "imsize = 512 if torch.cuda.is_available() else 256  # use small size if no gpu"
   ]
  },
  {
   "cell_type": "code",
   "execution_count": 4,
   "metadata": {},
   "outputs": [],
   "source": [
    "# desired depth layers to compute style/content losses:\n",
    "default_style_layers = ['conv_1', 'conv_2', 'conv_3', 'conv_4', 'conv_5']"
   ]
  },
  {
   "cell_type": "code",
   "execution_count": null,
   "metadata": {},
   "outputs": [],
   "source": [
    "def eval_model(pre_model, img_1, img_2,\n",
    "                   default_mean_std = True,\n",
    "                   style_layers=default_style_layers,\n",
    "                   weight = 1000000):\n",
    "\n",
    "    cnn = copy.deepcopy(pre_model)\n",
    "\n",
    "    # normalization module\n",
    "    normalization = Normalization(default_mean_std = default_mean_std)\n",
    "\n",
    "    style_losses = 0\n",
    "\n",
    "    # create our model\n",
    "    model = nn.Sequential(normalization)\n",
    "\n",
    "    # increment every time we see a conv\n",
    "    i = 0  \n",
    "    # go through all the layers\n",
    "    for layer in cnn.children():\n",
    "        if isinstance(layer, nn.Conv2d):\n",
    "            i += 1\n",
    "            name = 'conv_{}'.format(i)\n",
    "        elif isinstance(layer, nn.ReLU):\n",
    "            name = 'relu_{}'.format(i)\n",
    "            # According to Alexis Jacq, the in-place version doesn't play \n",
    "            # very nicely with the ContentLoss with the ContentLoss and StyleLoss \n",
    "            # we insert below. So we replace with out-of-place ones here.\n",
    "            layer = nn.ReLU(inplace=False)\n",
    "        elif isinstance(layer, nn.MaxPool2d):\n",
    "            name = 'maxpool_{}'.format(i)\n",
    "        elif isinstance(layer, nn.BatchNorm2d):\n",
    "            name = 'bn_{}'.format(i)\n",
    "\n",
    "        model.add_module(name, layer)\n",
    "\n",
    "        if name in style_layers:\n",
    "            # add style loss:\n",
    "            # calculate target style\n",
    "            target_style = model(style_img).detach()\n",
    "            # save target style\n",
    "            style_loss = StyleLoss(target_style)\n",
    "            # save the loss\n",
    "            style_losses += style_loss.loss / len(style_layers)\n",
    "\n",
    "\n",
    "    return style_losses * weight"
   ]
  }
 ]
}